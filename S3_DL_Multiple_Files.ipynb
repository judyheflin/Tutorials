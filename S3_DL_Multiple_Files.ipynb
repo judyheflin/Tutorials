{
 "cells": [
  {
   "cell_type": "markdown",
   "metadata": {},
   "source": [
    "# Downloading Multiple Files From S3 Using AWS CLI\n",
    "\n",
    "\n",
    "The following is a way to download multiple files at once from an AWS S3 folder. \n",
    "\n",
    "Before you begin, please be sure to have [Anaconda](https://www.anaconda.com/products/individual) and [AWS CLI](https://docs.aws.amazon.com/cli/latest/userguide/install-cliv2.html) installed on your machine. \n",
    "\n",
    "---\n",
    "\n",
    "## Overview\n",
    "\n",
    "1. Setup your workspace\n",
    "2. Run the Jupyter notebook cell to generate your AWS S3 command\n",
    "3. Run the command and download your data! \n",
    "\n",
    "---\n",
    "\n",
    "### 1. Setup your workspace\n",
    "\n",
    "Place this Jupyter notebook file, the text file containing the file names of the data you need to download, and an empty destination folder in a desired location on your local machine. \n",
    "\n",
    "---\n",
    "\n",
    "### 2. Run the Jupyter notebook cell to generate your AWS S3 command\n",
    "\n",
    "To run the Jupyter notebook cell below press `shift + enter`. \n",
    "\n",
    "You will be asked to provide: \n",
    "    - The S3 URI of the folder you want to download the files from. \n",
    "    - The name of the text file containing your file name data\n",
    "    - The path of the destination folder you created to download your files into\n",
    "    \n",
    "You can find the S3 URI in the **Properties** tab of the folder. File name examples are provided below.\n",
    "\n",
    "---"
   ]
  },
  {
   "cell_type": "code",
   "execution_count": 1,
   "metadata": {},
   "outputs": [
    {
     "name": "stdout",
     "output_type": "stream",
     "text": [
      "Please provide the S3 URI of the folder you wish to download files from: s3://example_folder/mp3_data\n",
      "\n",
      "Please input the name of the text file containing your data file names: files_to_dl.txt\n",
      "\n",
      "Please specify the file path for your destination folder: desktop/destination_folder\n",
      "\n",
      "Thank you! Please use the following command to download your data:\n",
      "\n",
      "aws s3 cp s3://example_folder/mp3_data ./desktop/destination_folder --recursive --exclude \"*\" --include \"sample_file_01.mp3\" --include \"sample_file_02.mp3\" --include \"sample_file_03.mp3\" --include \"sample_file_04.mp3\" --include \"sample_file_05.mp3\" \n"
     ]
    }
   ],
   "source": [
    "def generate_s3_command():\n",
    "    file_names = open(file_to_dl, \"r\")\n",
    "    files = file_names.readlines()\n",
    "    command_string = \"aws s3 cp \" + s3_uri + \" ./\" + dl_location + \" --recursive --exclude \\\"*\\\" \"\n",
    "    for file in files:\n",
    "        command_string += \"--include \\\"\" + file.strip() + \"\\\" \"\n",
    "    print(command_string)\n",
    "\n",
    "s3_uri = input('Please provide the S3 URI of the folder you wish to download files from: ')\n",
    "file_to_dl = input('\\nPlease input the name of the text file containing your data file names: ')\n",
    "dl_location = input('\\nPlease specify the file path for your destination folder: ')\n",
    "print(\"\\nThank you! Please use the following command to download your data:\\n\")\n",
    "\n",
    "generate_s3_command()"
   ]
  },
  {
   "cell_type": "markdown",
   "metadata": {},
   "source": [
    "---\n",
    "### 3. Run the command and download your data! \n",
    "\n",
    "If you are on Windows, open Anaconda Prompt. If you are using MacOS or Linux, open Terminal. \n",
    "\n",
    "Copy paste the generated prompt into your command line. You can use `control + c` to copy the command from this Jupyter notebook and `right click` to paste the command into your command line. \n",
    "\n",
    "![Run the generated AWS command](example_s3_command.PNG)\n",
    "\n",
    "Your destination folder should now have all the data you need.\n",
    "\n",
    "---\n",
    "\n",
    "***Thanks for following along!***"
   ]
  }
 ],
 "metadata": {
  "kernelspec": {
   "display_name": "Python 3",
   "language": "python",
   "name": "python3"
  },
  "language_info": {
   "codemirror_mode": {
    "name": "ipython",
    "version": 3
   },
   "file_extension": ".py",
   "mimetype": "text/x-python",
   "name": "python",
   "nbconvert_exporter": "python",
   "pygments_lexer": "ipython3",
   "version": "3.7.3"
  }
 },
 "nbformat": 4,
 "nbformat_minor": 2
}
